{
 "cells": [
  {
   "cell_type": "code",
   "execution_count": 1,
   "id": "cc9730c6-9080-4c4b-8d3f-3545b4042bf6",
   "metadata": {},
   "outputs": [],
   "source": [
    "import cv2 #opencv\n",
    "import os\n",
    "import time\n",
    "import uuid \n"
   ]
  },
  {
   "cell_type": "code",
   "execution_count": 2,
   "id": "465a7df5-7968-456c-a242-ab7f0581725f",
   "metadata": {},
   "outputs": [],
   "source": [
    "IMAGES_PATH = 'Tensorflow/workspace/images/collectedimages'"
   ]
  },
  {
   "cell_type": "code",
   "execution_count": 3,
   "id": "51066d1b-7d26-4699-b5ab-09cd457fc92f",
   "metadata": {},
   "outputs": [],
   "source": [
    "labels = ['hello', 'thanks','yes','no','iloveyou']\n",
    "number_imgs = 15\n"
   ]
  },
  {
   "cell_type": "code",
   "execution_count": null,
   "id": "6374a3a7-063c-4d86-9ca2-e8d4e3fc46e4",
   "metadata": {},
   "outputs": [],
   "source": [
    "for label in labels:\n",
    "    !mkdir {'Tensorflow/workspace/images/collectedimages\\\\'+ label}\n",
    "    cap = cv2.VideoCapture(0)\n",
    "    print('Collecting images for {}' .format(label))\n",
    "    time.sleep(5)\n",
    "    for imgnum in range(number_imgs):\n",
    "        ret ,frame = cap.read()\n",
    "        imgname = os.path.join(IMAGES_PATH, label,label+'.'+'{}.jpg'.format(str(uuid.uuid1())))\n",
    "        cv2.imwrite(imgname,frame)\n",
    "        cv2.imshow('frame',frame)\n",
    "        time.sleep(2)\n",
    "\n",
    "        if cv2.waitKey(1) & 0xFF == ord ('q'):\n",
    "            break\n",
    "            cap.release()"
   ]
  }
 ],
 "metadata": {
  "kernelspec": {
   "display_name": "Python 3 (ipykernel)",
   "language": "python",
   "name": "python3"
  },
  "language_info": {
   "codemirror_mode": {
    "name": "ipython",
    "version": 3
   },
   "file_extension": ".py",
   "mimetype": "text/x-python",
   "name": "python",
   "nbconvert_exporter": "python",
   "pygments_lexer": "ipython3",
   "version": "3.12.2"
  }
 },
 "nbformat": 4,
 "nbformat_minor": 5
}
